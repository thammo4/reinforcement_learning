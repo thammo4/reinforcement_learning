{
 "cells": [
  {
   "cell_type": "markdown",
   "id": "d2ba6549-8b15-4f95-9615-549dd5fa2f7c",
   "metadata": {},
   "source": [
    "### Lab: Q-Learning to Solve the Cliff Walk Problem\n",
    "\n",
    "### University of Virginia\n",
    "### Reinforcement Learning\n",
    "#### Last updated: September 6, 2023\n",
    "\n",
    "---"
   ]
  },
  {
   "cell_type": "markdown",
   "id": "2afeab41-bd5f-40e8-ad2f-e8999f13ed45",
   "metadata": {},
   "source": [
    "#### Instructions:\n",
    "\n",
    "In Sutton & Barto (Section 6.5), the Cliff Walking problem is presented. Consider the grid below, where an agent begins in starting state S and wishes to reach goal state G by walking on a path and keeping off The Cliff (the gray region).  If the agent visits The Cliff, it incurs reward -100 and is immediately sent back to the start. The reward is -1 on all transitions apart from The Cliff. This incentivizes the agent to reach G as quickly as possible. \n",
    "\n",
    "---"
   ]
  },
  {
   "cell_type": "markdown",
   "id": "4266cda1-8a73-4761-a843-676543a67c0d",
   "metadata": {},
   "source": [
    "<img src=\"./cliff_walk.png\">  "
   ]
  },
  {
   "cell_type": "markdown",
   "id": "6073fb7e-f7d7-48c0-95dc-8c38a1784cc3",
   "metadata": {},
   "source": [
    "1) Write a Q-learning algorithm that helps the agent learn the optimal policy.  \n",
    "Use $\\epsilon$-greedy action selection with $\\epsilon=0.1$.\n"
   ]
  },
  {
   "cell_type": "code",
   "execution_count": null,
   "id": "09f89e37-d060-48ec-b1a6-809eba649178",
   "metadata": {},
   "outputs": [],
   "source": []
  },
  {
   "cell_type": "markdown",
   "id": "35726b8e-59e6-4954-8cf9-9c45ccc85792",
   "metadata": {},
   "source": [
    "2. Show the sum of rewards for each episode and plot them. [clarify what this means]"
   ]
  },
  {
   "cell_type": "code",
   "execution_count": null,
   "id": "e1ea9fb1-8ca3-4e98-bfe7-b95a2eacdc4c",
   "metadata": {},
   "outputs": [],
   "source": []
  },
  {
   "cell_type": "markdown",
   "id": "216adca7-51a6-4570-ae28-3ca2924074be",
   "metadata": {},
   "source": [
    "3. Show the optimal path on the grid."
   ]
  },
  {
   "cell_type": "code",
   "execution_count": null,
   "id": "43bd342f-04c1-42e4-8001-f708e54e93d5",
   "metadata": {},
   "outputs": [],
   "source": []
  }
 ],
 "metadata": {
  "kernelspec": {
   "display_name": "Python 3 (ipykernel)",
   "language": "python",
   "name": "python3"
  },
  "language_info": {
   "codemirror_mode": {
    "name": "ipython",
    "version": 3
   },
   "file_extension": ".py",
   "mimetype": "text/x-python",
   "name": "python",
   "nbconvert_exporter": "python",
   "pygments_lexer": "ipython3",
   "version": "3.9.12"
  }
 },
 "nbformat": 4,
 "nbformat_minor": 5
}
