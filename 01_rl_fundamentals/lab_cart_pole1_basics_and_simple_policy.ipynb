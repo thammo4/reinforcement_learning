{
 "cells": [
  {
   "cell_type": "markdown",
   "metadata": {
    "id": "-GBod1nv65dN"
   },
   "source": [
    "## Lab: Cart Pole using OpenAI gym  \n",
    "## Basics and Simple Policy\n",
    "\n",
    "### University of Virginia\n",
    "### Reinforcement Learning\n",
    "#### Last updated: August 21, 2023\n",
    "\n",
    "---\n"
   ]
  },
  {
   "cell_type": "markdown",
   "metadata": {
    "id": "krpOsEbE_aTj"
   },
   "source": [
    "### Agent and Environment\n",
    "\n",
    "It is essential for the agent to have a way to get the next state and reward from the environment. \n",
    "\n",
    "Sometimes it is possible for the agent to interact with environment in real life, but often this is expensive / dangerous / impossible.\n",
    "\n",
    "We use models and simulators in this latter case.\n",
    "\n",
    "For this reason, the Gym package is useful in RL\n",
    "\n",
    "---"
   ]
  },
  {
   "cell_type": "markdown",
   "metadata": {
    "id": "fVwAKKjUBxFT"
   },
   "source": [
    "### Introduction to Gym\n",
    "\n",
    "We will work with [Gym](https://gym.openai.com/) from Open AI.\n",
    "\n",
    "Gym is a toolkit for developing and comparing RL algorithms.\n",
    "\n",
    "It comes with many pre-built environments.\n",
    "\n",
    "Users can build their own custom environments. See [here](https://towardsdatascience.com/creating-a-custom-openai-gym-environment-for-stock-trading-be532be3910e#:~:text=8%20min%20read-,Create%20custom%20gym%20environments%20from%20scratch%20%E2%80%94%20A%20stock%20market%20example,Atari%20games%20to%20experiment%20with.) for example.\n",
    "\n",
    "---"
   ]
  },
  {
   "cell_type": "markdown",
   "metadata": {
    "id": "jUTU3338AvT9"
   },
   "source": [
    "### Cart Pole Problem\n",
    "\n",
    "The [**CartPole**](https://gym.openai.com/videos/2019-10-21--mqt8Qj1mwo/CartPole-v1/original.mp4) problem has a small state space and action space, so it's popular for illustrating ideas. \n",
    "\n",
    "Pole is attached to a cart on a frictionless track.\n",
    "\n",
    "Pole starts upright\n",
    "\n",
    "**Goal** is to keep pole from falling over\n",
    "\n",
    "Control system by applying **force** -1 or +1 to cart.\n",
    "\n",
    "**Reward** of +1 for each timestep the pole remains upright\n",
    "\n",
    "**Episode** ends when pole is more than 12 degrees from vertical, or cart moves more than 2.4 units from center\n",
    "\n",
    "CartPole-v0 defines *solving* as getting average reward of 195.0 over 100 consecutive trials."
   ]
  },
  {
   "cell_type": "markdown",
   "metadata": {},
   "source": [
    "<img src=\"./cartpole.png\" alt=\"drawing\" width=\"150\"/>"
   ]
  },
  {
   "cell_type": "markdown",
   "metadata": {},
   "source": [
    "---"
   ]
  },
  {
   "cell_type": "markdown",
   "metadata": {
    "id": "rA_dd0h6Eoap"
   },
   "source": [
    "### Setup and First Steps"
   ]
  },
  {
   "cell_type": "markdown",
   "metadata": {
    "id": "OgSNDjuzow2U"
   },
   "source": [
    "This notebook can be easily run on [Google Colab](https://colab.research.google.com/)"
   ]
  },
  {
   "cell_type": "code",
   "execution_count": 1,
   "metadata": {
    "id": "ed_DyvHy6pbh"
   },
   "outputs": [],
   "source": [
    "import gym"
   ]
  },
  {
   "cell_type": "markdown",
   "metadata": {
    "id": "KA4JgtuL5jC9"
   },
   "source": [
    "Load the environment"
   ]
  },
  {
   "cell_type": "code",
   "execution_count": 7,
   "metadata": {
    "id": "UcGLRi6F6vcQ"
   },
   "outputs": [],
   "source": [
    "env = gym.make(\"CartPole-v1\")\n",
    "\n",
    "state = env.reset(seed=314)"
   ]
  },
  {
   "cell_type": "markdown",
   "metadata": {
    "id": "VtQFJsxj7aBj"
   },
   "source": [
    "Given the state, we take an action. The next state comes from the environment, which is encoded in `gym`.\n",
    "\n",
    "Components:   \n",
    "[0]: cart horizontal position (0.0 = center)  \n",
    "[1]: velocity (positive means right)  \n",
    "[2]: angle of the pole (0.0 = vertical)  \n",
    "[3]: pole's angular velocity (positive means clockwise)"
   ]
  },
  {
   "cell_type": "code",
   "execution_count": 9,
   "metadata": {
    "colab": {
     "base_uri": "https://localhost:8080/"
    },
    "id": "M30S6Bf_6yNv",
    "outputId": "b0adbf2b-9267-416a-d7df-74f2277e1ed0"
   },
   "outputs": [
    {
     "data": {
      "text/plain": [
       "array([0.04225422, 0.02126478, 0.02520455, 0.00700802], dtype=float32)"
      ]
     },
     "execution_count": 9,
     "metadata": {},
     "output_type": "execute_result"
    }
   ],
   "source": [
    "state"
   ]
  },
  {
   "cell_type": "code",
   "execution_count": 10,
   "metadata": {
    "colab": {
     "base_uri": "https://localhost:8080/"
    },
    "id": "7A5peNKiBXsh",
    "outputId": "59a30da4-be9d-4f8d-a178-8fd5dbf66b3f"
   },
   "outputs": [
    {
     "data": {
      "text/plain": [
       "4"
      ]
     },
     "execution_count": 10,
     "metadata": {},
     "output_type": "execute_result"
    }
   ],
   "source": [
    "# state space number of components\n",
    "env.observation_space.shape[0]"
   ]
  },
  {
   "cell_type": "markdown",
   "metadata": {
    "id": "8GkZmsIN7ky6"
   },
   "source": [
    "The action space consists of two options: \n",
    "\n",
    "[0]: move cart left   \n",
    "[1]: move cart right"
   ]
  },
  {
   "cell_type": "code",
   "execution_count": 11,
   "metadata": {
    "colab": {
     "base_uri": "https://localhost:8080/"
    },
    "id": "ySQ8EpsV7Ngr",
    "outputId": "bb78688d-b282-4338-a9ce-c229ed60906a"
   },
   "outputs": [
    {
     "data": {
      "text/plain": [
       "Discrete(2)"
      ]
     },
     "execution_count": 11,
     "metadata": {},
     "output_type": "execute_result"
    }
   ],
   "source": [
    "env.action_space"
   ]
  },
  {
   "cell_type": "markdown",
   "metadata": {
    "id": "_68lpUuVCc-_"
   },
   "source": [
    "Let's take an action, draw a sample and look at the results."
   ]
  },
  {
   "cell_type": "code",
   "execution_count": 14,
   "metadata": {
    "colab": {
     "base_uri": "https://localhost:8080/"
    },
    "id": "gKFEIHjL7n7h",
    "outputId": "504c31ce-d526-4bfa-9842-ab4af59d7e7a"
   },
   "outputs": [
    {
     "name": "stdout",
     "output_type": "stream",
     "text": [
      "state [ 0.05521519  0.60560644  0.00854836 -0.84858215]\n",
      "reward 1.0\n",
      "done False\n",
      "info {}\n"
     ]
    }
   ],
   "source": [
    "# move right\n",
    "action = 1\n",
    "\n",
    "# take a step and get next state, reward from environment\n",
    "state, reward, done, info = env.step(action)\n",
    "\n",
    "print('state', state)\n",
    "print('reward', reward)\n",
    "print('done', done)\n",
    "print('info', info)"
   ]
  },
  {
   "cell_type": "markdown",
   "metadata": {
    "id": "bqxI0vej88Kh"
   },
   "source": [
    "**Reward and Episode**  \n",
    "\n",
    "For each time step that the cart keeps the pole balanced, it earns reward 1.\n",
    "\n",
    "If the pole tilts too much or if the cart moves off screen, `reward=0` and `done=True` (the episode will end).\n",
    "\n",
    "When the episode ends, a new episode may begin. The process learns cumulatively from each episode."
   ]
  },
  {
   "cell_type": "markdown",
   "metadata": {
    "id": "Yv5gKVde9pvQ"
   },
   "source": [
    "**Simple policy**:  \n",
    "\n",
    "When the pole leans left (negative angle), move left. When the pole leans right (positive angle), move right.\n",
    "\n",
    "Run many episodes and visualize their reward distribution."
   ]
  },
  {
   "cell_type": "code",
   "execution_count": 15,
   "metadata": {
    "id": "dREsiRKf9CbR"
   },
   "outputs": [],
   "source": [
    "def simple_policy(obs):\n",
    "    angle = obs[2]\n",
    "    return 0 if angle < 0 else 1\n",
    "\n",
    "num_episodes = 1000\n",
    "num_steps = 100\n",
    "rewards = []\n",
    "\n",
    "for episode in range(num_episodes):\n",
    "    ep_reward = 0\n",
    "    obs = env.reset()\n",
    "    for step in range(num_steps):\n",
    "        action = simple_policy(obs)\n",
    "        obs, reward, done, info = env.step(action)\n",
    "        ep_reward += reward\n",
    "        if done:\n",
    "            break\n",
    "\n",
    "    rewards.append(ep_reward)"
   ]
  },
  {
   "cell_type": "code",
   "execution_count": 16,
   "metadata": {
    "colab": {
     "base_uri": "https://localhost:8080/",
     "height": 430
    },
    "id": "nzdjBfiA-yab",
    "outputId": "d19abbbd-da81-469a-b4b3-b070d5e98a9b"
   },
   "outputs": [
    {
     "data": {
      "image/png": "[encoded data removed]",
      "text/plain": [
       "<Figure size 640x480 with 1 Axes>"
      ]
     },
     "metadata": {},
     "output_type": "display_data"
    }
   ],
   "source": [
    "import matplotlib.pyplot as plt\n",
    "\n",
    "plt.boxplot(rewards, vert=False)\n",
    "plt.grid()\n",
    "plt.show()"
   ]
  },
  {
   "cell_type": "markdown",
   "metadata": {
    "id": "8rOaGhKK7mHg"
   },
   "source": [
    "---\n",
    "\n",
    "**Question 1** Given this setup and simple policy what is the mean and maximum reward (roughly)?"
   ]
  },
  {
   "cell_type": "markdown",
   "metadata": {},
   "source": []
  },
  {
   "cell_type": "markdown",
   "metadata": {
    "id": "fWTRqKtR7l74"
   },
   "source": [
    "**Question 2: Modified Policy.** Consider moving the cart for one step (either left or right), then reversing direction for one step, and then following the simple policy. Does  this change in policy increase the mean reward?"
   ]
  },
  {
   "cell_type": "markdown",
   "metadata": {},
   "source": []
  },
  {
   "cell_type": "markdown",
   "metadata": {
    "id": "gnH4J3988wNe"
   },
   "source": [
    "**Question 3** What is the mean reward if you reverse the simple policy, moving left when the pole leans right, and moving right when the pole leans left? This is not a good idea, but it's instructive."
   ]
  },
  {
   "cell_type": "markdown",
   "metadata": {},
   "source": []
  },
  {
   "cell_type": "markdown",
   "metadata": {},
   "source": [
    "**Question 4** Are there other simple changes you can make to increase the mean reward?"
   ]
  },
  {
   "cell_type": "markdown",
   "metadata": {},
   "source": []
  },
  {
   "cell_type": "markdown",
   "metadata": {
    "id": "t_61H87rA_MT"
   },
   "source": [
    "---  \n",
    "\n",
    "### Wrapup\n",
    "\n",
    "This demo illustrated some basic ideas of reinforcement learning and got you started with OpenAI Gym. \n",
    "\n",
    "The simple policy is not able to solve the Cart Pole problem. \n",
    "\n",
    "We will revisit this example later, bringing in more tools for a better solution.\n",
    "\n",
    "---\n"
   ]
  }
 ],
 "metadata": {
  "colab": {
   "provenance": []
  },
  "kernelspec": {
   "display_name": "Python 3 (ipykernel)",
   "language": "python",
   "name": "python3"
  },
  "language_info": {
   "codemirror_mode": {
    "name": "ipython",
    "version": 3
   },
   "file_extension": ".py",
   "mimetype": "text/x-python",
   "name": "python",
   "nbconvert_exporter": "python",
   "pygments_lexer": "ipython3",
   "version": "3.9.12"
  }
 },
 "nbformat": 4,
 "nbformat_minor": 4
}
