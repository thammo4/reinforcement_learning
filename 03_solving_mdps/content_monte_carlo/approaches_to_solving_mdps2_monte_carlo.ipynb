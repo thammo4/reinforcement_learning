{
 "cells": [
  {
   "cell_type": "markdown",
   "metadata": {},
   "source": [
    "### Approaches to Solving MDPs II: Monte Carlo Simulation\n",
    "\n",
    "### University of Virginia\n",
    "### Reinforcement Learning\n",
    "#### Last updated: September 5, 2023\n",
    "\n",
    "---"
   ]
  },
  {
   "cell_type": "markdown",
   "metadata": {},
   "source": [
    "\n",
    "### SOURCES \n",
    "\n",
    "- Reinforcement Learning, RS Sutton & AG Barto, 2nd edition. Chapter 5\n",
    "- Mastering Reinforcement Learning with Python, Enes Bilgin. Chapter 5\n",
    "\n",
    "### LEARNING OUTCOMES\n",
    "\n",
    "- Apply Monte Carlo simulaton to estimate value functions\n",
    "- Understand the strengths and limitations of Monte Carlo methods\n",
    "- Explain the purpose of exploring starts\n",
    "- Understand why importance sampling is needed for off-policy learning\n",
    "\n",
    "### CONCEPTS\n",
    "\n",
    "- Monte Carlo simulation can be used to measure value functions without knowledge of transition probabilities\n",
    "- Exploring starts\n",
    "- Simulation risk\n",
    "- On-policy and off-policy methods\n",
    "- Importance sampling\n"
   ]
  },
  {
   "cell_type": "markdown",
   "metadata": {},
   "source": [
    "---  "
   ]
  },
  {
   "cell_type": "markdown",
   "metadata": {},
   "source": [
    "### Monte Carlo (MC) Methods\n",
    "\n",
    "MC does not require complete knowledge of the environment.\n",
    "\n",
    "Instead, it relies on sampling by simulating many trajectories, where a trajectory looks like: $s_t,a_t,r_{t+1},s_{t+1},a_{t+1},r_{t+2},s_{t+2},...,r_T,s_T$\n",
    "\n",
    "For measuring state value function $v_\\pi(s)$ and action value function $q_\\pi(s,a)$,  \n",
    "- start with $s$ in the former and $s, a$ in the latter  \n",
    "- generate many sample trajectories: sequences of state-action-reward tuples\n",
    "- compute the mean\n",
    "\n",
    "One challenge with computing $q_\\pi(s,a)$ by simulation is that many state-action pairs $(s,a)$ may not be visited  \n",
    "Can force a given $(s,a)$ by starting an episode in that condition; called **exploring starts.**\n",
    "\n",
    "**MC is an approximation**: while the true values would require infinite simulated trajectories, we can get *close enough* by simulating a massive number of paths.\n",
    "\n",
    "MC makes updates when trajectories are completed."
   ]
  },
  {
   "cell_type": "markdown",
   "metadata": {},
   "source": [
    "**Comparison to Dynamic Programming**\n",
    "\n",
    "DP uses one-step transitions and it calculates expectations of taking various paths\n",
    "\n",
    "MC uses full paths for making updates\n",
    "\n",
    "Backup diagram is simpler than DP: chain of state-action-state-action ... leading to final state.\n",
    "\n",
    "White circles are states, black circles are actions."
   ]
  },
  {
   "cell_type": "markdown",
   "metadata": {},
   "source": [
    "<img src=\"./mc_backup_diagram.png\" width=40>"
   ]
  },
  {
   "cell_type": "markdown",
   "metadata": {},
   "source": [
    "**Independence**\n",
    "\n",
    "Estimates for each state in MC are independent. This makes it embarrisingly parallel."
   ]
  },
  {
   "cell_type": "markdown",
   "metadata": {},
   "source": [
    "---"
   ]
  },
  {
   "cell_type": "markdown",
   "metadata": {},
   "source": [
    "### Blackjack!\n",
    "\n",
    "Next we simulate blackjack to study policies and values. If we wanted to use DP, this would be very hard as transition probabilities need to be computed in advance. "
   ]
  },
  {
   "cell_type": "markdown",
   "metadata": {},
   "source": [
    "![basic_strategy](./blackjack_basic_strategy.jpg)"
   ]
  },
  {
   "cell_type": "markdown",
   "metadata": {},
   "source": [
    "#### Blackjack Policy Simulator\n",
    "\n",
    "The object of the game is to obtain cards with total value as great as possible without exceeding 21 and beat the dealer.\n",
    "\n",
    "The rules:\n",
    "\n",
    "- Face card (Jack/Queen/King) values are 10\n",
    "- Ace value is 1 or 11. When player has option of either value, ace is called *usable*.\n",
    "- Two cards are dealt to player and dealer\n",
    "- One of the dealer's cards is face up\n",
    "- If the player has 21 and the dealer doesn't, the player wins\n",
    "- If the player has 21 and the dealer has 21, it is a draw\n",
    "- If the player does not have 21, he can draw cards until he stops (sticks) or exceeds 21 (goes bust)\n",
    "- If he goes bust, he loses\n",
    "- If he sticks, it is the dealer's turn\n",
    "- The dealer must stick on a sum of 17 or greater and hits otherwise\n",
    "- If the dealer goes bust, the player wins. Otherwise, the winner has final sum closer to 21.\n",
    "\n",
    "Assumption\n",
    "\n",
    "- infinite card deck\n",
    "\n",
    "Policy\n",
    "\n",
    "- a simple policy we can consider: player sticks if sum greater than *max_total_hit*, else hits  \n",
    "\n",
    "A more complete policy will choose based on 1) sum of player cards 2) dealer card shown 3) player having usable aces"
   ]
  },
  {
   "cell_type": "markdown",
   "metadata": {},
   "source": [
    "**Question:** Based on these three variables, how many possible states are there?"
   ]
  },
  {
   "cell_type": "markdown",
   "metadata": {},
   "source": []
  },
  {
   "cell_type": "code",
   "execution_count": 1,
   "metadata": {},
   "outputs": [],
   "source": [
    "import numpy as np\n",
    "import random\n",
    "import matplotlib.pyplot as plt"
   ]
  },
  {
   "cell_type": "code",
   "execution_count": 2,
   "metadata": {},
   "outputs": [],
   "source": [
    "class CardGenerator():\n",
    "    def __init__(self):\n",
    "        self.card_values = [2,3,4,5,6,7,8,9,10,11]\n",
    "        self.weights=[1/13]*8 + [4/13] + [1/13]\n",
    "\n",
    "    def draw_card(self):\n",
    "        return random.choices(self.card_values, self.weights)[0]"
   ]
  },
  {
   "cell_type": "code",
   "execution_count": 28,
   "metadata": {},
   "outputs": [],
   "source": [
    "class BasePlayer():\n",
    "    def __init__(self, verbose, name):\n",
    "        self.verbose     = verbose\n",
    "        self.name        = name\n",
    "        self.total       = 0\n",
    "        self.usable_aces = 0\n",
    "        self.card_gen    = CardGenerator()\n",
    "        self.is_busted   = False\n",
    "        \n",
    "        # draw two cards and manage aces\n",
    "        new_card = self.card_gen.draw_card()\n",
    "        if self.verbose:\n",
    "            print(self.name)\n",
    "            print('card1', new_card)\n",
    "        self.total += new_card\n",
    "        self.manage_possible_ace(new_card)\n",
    "        new_card = self.card_gen.draw_card()\n",
    "        if self.verbose:\n",
    "            print('card2', new_card)\n",
    "        self.total += new_card\n",
    "        self.manage_possible_ace(new_card)\n",
    "        \n",
    "    def manage_possible_ace(self, new_card):\n",
    "        if new_card == 11:\n",
    "            if self.total > 21:\n",
    "                self.total -= 10\n",
    "            else:\n",
    "                self.usable_aces += 1\n",
    "\n",
    "    def is_over21(self):\n",
    "        if self.total > 21:\n",
    "            if self.usable_aces > 0:\n",
    "                self.total -= 10\n",
    "                self.usable_aces -= 1\n",
    "            else:\n",
    "                self.is_busted = True\n",
    "    \n",
    "    def report_status(self):\n",
    "        print('total', self.total)\n",
    "        print('usable_aces', self.usable_aces)\n",
    "        print('is_busted',self.is_busted)\n",
    "        print('\\n')\n",
    "        "
   ]
  },
  {
   "cell_type": "code",
   "execution_count": 29,
   "metadata": {},
   "outputs": [],
   "source": [
    "class Player(BasePlayer):\n",
    "    def __init__(self, verbose, name, max_total_hit):\n",
    "        super().__init__(verbose, name)\n",
    "        self.max_total_hit = max_total_hit\n",
    "        \n",
    "        if self.verbose:\n",
    "            self.report_status()\n",
    "\n",
    "    def followup_play(self):\n",
    "        while self.total <= self.max_total_hit: \n",
    "            print(self.name, 'draws a card...')\n",
    "            new_card = self.card_gen.draw_card()\n",
    "            self.total += new_card  \n",
    "            self.manage_possible_ace(new_card)   \n",
    "            self.is_over21()\n",
    "            if self.verbose:\n",
    "                print('new_card', new_card)\n",
    "                self.report_status()\n"
   ]
  },
  {
   "cell_type": "code",
   "execution_count": 30,
   "metadata": {},
   "outputs": [],
   "source": [
    "def compare_end(player, dealer):\n",
    "    #print('player total', player.total)\n",
    "    #print('dealer total', dealer.total)\n",
    "    \n",
    "    if player.total > dealer.total:\n",
    "        return 1\n",
    "    elif player.total == dealer.total:\n",
    "        return 0\n",
    "    else:\n",
    "        return -1\n",
    "    \n",
    "def player_vs_dealer(player, dealer): \n",
    "    \n",
    "    if player.total == 21:\n",
    "        if dealer.total != 21:\n",
    "            return 1\n",
    "        elif dealer.total == 21:\n",
    "            return 0\n",
    "    else:\n",
    "        player.followup_play()\n",
    "        if player.is_busted:\n",
    "            print(player.name, 'busted')\n",
    "            return -1\n",
    "        else:\n",
    "            dealer.followup_play()\n",
    "            if dealer.is_busted:\n",
    "                print(dealer.name, 'busted')\n",
    "                return 1\n",
    "            else:\n",
    "                return compare_end(player, dealer)\n",
    "                "
   ]
  },
  {
   "cell_type": "markdown",
   "metadata": {},
   "source": [
    "#### Briefly review the code for understanding"
   ]
  },
  {
   "cell_type": "markdown",
   "metadata": {},
   "source": [
    "#### 1. Testing the card generator\n",
    "\n",
    "First, create a card generator and use it to draw cards."
   ]
  },
  {
   "cell_type": "code",
   "execution_count": null,
   "metadata": {},
   "outputs": [],
   "source": []
  },
  {
   "cell_type": "markdown",
   "metadata": {},
   "source": [
    "To test whether it seems to generate values with the correct probabilities, draw 10,000 cards, keeping track of the frequency of each value. Does it seem to be working properly? You might increase the number of draws and repeat."
   ]
  },
  {
   "cell_type": "code",
   "execution_count": null,
   "metadata": {},
   "outputs": [],
   "source": []
  },
  {
   "cell_type": "markdown",
   "metadata": {},
   "source": [
    "#### 2. Simulate a hand of blackjack\n",
    "\n",
    "Review how the hand plays out and validate that it works properly"
   ]
  },
  {
   "cell_type": "code",
   "execution_count": null,
   "metadata": {
    "tags": []
   },
   "outputs": [],
   "source": [
    "verbose = True\n",
    "max_total_hit = 18\n",
    "\n",
    "plr = Player(verbose, 'Austin Powers', max_total_hit)\n",
    "dealer = Player(verbose, 'Number Two', 16)\n",
    "\n",
    "reward = player_vs_dealer(plr, dealer)\n",
    "print('reward:', reward)"
   ]
  },
  {
   "cell_type": "markdown",
   "metadata": {},
   "source": [
    "#### 3. Simulate a large number of hands for various *max_total_hit* and compute mean reward for each"
   ]
  },
  {
   "cell_type": "code",
   "execution_count": null,
   "metadata": {
    "tags": []
   },
   "outputs": [],
   "source": [
    "its = 1000\n",
    "\n",
    "thresholds = np.arange(10,20)\n",
    "mean_rewards = np.empty(len(thresholds))\n",
    "\n",
    "ix = 0\n",
    "for thresh in thresholds:\n",
    "    sum_rewards = 0\n",
    "    for it in range(its):\n",
    "        plr = Player(False, 'Player', thresh)\n",
    "        dealer = Player(False, 'Dealer', 16)\n",
    "        sum_rewards += player_vs_dealer(plr, dealer)\n",
    "    mean_rewards[ix] = sum_rewards/its\n",
    "    ix += 1\n",
    "\n",
    "plt.plot(thresholds, mean_rewards)\n",
    "plt.grid()\n",
    "plt.show()"
   ]
  },
  {
   "cell_type": "markdown",
   "metadata": {
    "jupyter": {
     "source_hidden": true
    },
    "tags": []
   },
   "source": [
    "This gives understanding of value of different policies: at which sum should player stick"
   ]
  },
  {
   "cell_type": "code",
   "execution_count": 42,
   "metadata": {},
   "outputs": [
    {
     "data": {
      "image/png": "[encoded data removed]",
      "text/plain": [
       "<Figure size 432x288 with 1 Axes>"
      ]
     },
     "metadata": {
      "needs_background": "light"
     },
     "output_type": "display_data"
    }
   ],
   "source": [
    "plt.plot(thresholds, mean_rewards)\n",
    "plt.grid()\n",
    "plt.show()"
   ]
  },
  {
   "cell_type": "markdown",
   "metadata": {},
   "source": [
    "#### 4. Policy to account for dealer upcard \n",
    "\n",
    "How can you can modify the code to allow the policy to additionally depend on the dealer upcard? Test it here and discuss if the results make sense."
   ]
  },
  {
   "cell_type": "code",
   "execution_count": null,
   "metadata": {},
   "outputs": [],
   "source": []
  },
  {
   "cell_type": "markdown",
   "metadata": {},
   "source": [
    "#### 5. Policy: player sticks on sum 19-21 and hits otherwise\n",
    "\n",
    "Consider a policy where the player sticks on sum 19-21 and hits otherwise.  \n",
    "How might you estimate the value of this policy given a state where player sum is 13 and dealer upcard is 5?"
   ]
  },
  {
   "cell_type": "markdown",
   "metadata": {},
   "source": []
  },
  {
   "cell_type": "markdown",
   "metadata": {},
   "source": [
    "#### 6. Measuring value of state combinations\n",
    "\n",
    "If you wish to measure the value of various state combinations (player starting sum, dealer upcard, player usable aces), how can this be done efficiently?"
   ]
  },
  {
   "cell_type": "markdown",
   "metadata": {},
   "source": []
  },
  {
   "cell_type": "markdown",
   "metadata": {},
   "source": [
    "### On-Policy versus Off-Policy"
   ]
  },
  {
   "cell_type": "markdown",
   "metadata": {},
   "source": [
    "Two approaches to select all actions infinitely often: \n",
    "\n",
    "- on-policy methods: learns the value of the optimal policy based on agent's actions\n",
    "\n",
    "Agent commits to always exploring and tries to find best policy that still explores  \n",
    "Earlier, we learned an example: $\\epsilon$-greedy policies\n",
    "\n",
    "- off-policy methods: learns the value of the optimal policy independently of the agent's actions\n",
    "\n",
    "This uses two policies: \n",
    "\n",
    "1) policy for learning, which becomes optimal policy. Called the *target policy*\n",
    "\n",
    "2) policy that is exploratory and used for generating behavior. Called the *behavior policy*\n",
    "\n",
    "We will discuss these methods further throughout the course\n",
    "\n",
    "\n",
    "The policies will be functions. For off-policy methods, there will be a function (e.g., a neural network) for the target policy, and another for the behavior policy.\n",
    "\n",
    "**Off policy Example:**  \n",
    "target policy - Agent visits Joe's Shanghai for best dumplings, and Grimaldi's for best pizza. This is optimal from experience. But is it really best? The policy can be informed by the behavior policy and updated.\n",
    "\n",
    "behavior policy - Agent applies policy above, but will randomly explore from each state 5\\% of the time. These learnings feed the target policy.\n"
   ]
  },
  {
   "cell_type": "markdown",
   "metadata": {},
   "source": [
    "### Off-policy and Importance Sampling\n",
    "\n",
    "Given target policy $\\pi$ and behavior policy $b$\n",
    "\n",
    "Want to use episodes from $b$ to estimate values for $\\pi$ \n",
    "\n",
    "General problem is that we use a random variable with one distribution to compute expected value with a different distribution.\n",
    "\n",
    "We need to adjust by a ratio of the probabilities involving $\\frac{\\pi(a|s)}{b(a|s)}$\n",
    "\n",
    "Since ${b(a|s)}$ is in denominator, we need assumption of *coverage*:\n",
    "\n",
    "Any possible event for $\\pi$  must be possible for $b$. In terms of policies, $\\pi(a|s)>0$ implies $b(a|s)>0$.  \n",
    "\n",
    "**Importance Sampling (IS) Ratio**:\n",
    "\n",
    "$\\rho_{t:T-1} = \\prod_{k=t}^{T-1} \\frac{\\pi(a_k|s_k)}{b(a_k|s_k)}$\n",
    "\n",
    "Computationally, the gains $G$ from MC simulated paths must be weighted by the IS ratio. This amounts to adjusting the expected value.\n",
    "\n",
    "See Sutton and Barto Chapter 5 for more details and *weighted importance sampling*."
   ]
  },
  {
   "cell_type": "markdown",
   "metadata": {},
   "source": [
    "---"
   ]
  },
  {
   "cell_type": "markdown",
   "metadata": {},
   "source": [
    "#### Limitations to Monte Carlo\n",
    "\n",
    "- Need to wait for a trajectory to be finalized before value update can be made.  \n",
    "Example: you estimate commute time before the trip starts. Midway into the trip, you realize you're running 30 minutes late.  \n",
    "You can't update your estimate until you finish the trip. Is this realistic? Can you do better?\n",
    "\n",
    "- The simulated environment needs to match reality: **simulation risk**  \n",
    "If there is a gap between simulated environment and reality, the model may fail in deployment.\n",
    "\n",
    "For these reasons, there was a push to develop better approaches such as temporal-difference methods.  \n",
    "We discuss these next."
   ]
  },
  {
   "cell_type": "markdown",
   "metadata": {},
   "source": [
    "---"
   ]
  }
 ],
 "metadata": {
  "kernelspec": {
   "display_name": "Python 3 (ipykernel)",
   "language": "python",
   "name": "python3"
  },
  "language_info": {
   "codemirror_mode": {
    "name": "ipython",
    "version": 3
   },
   "file_extension": ".py",
   "mimetype": "text/x-python",
   "name": "python",
   "nbconvert_exporter": "python",
   "pygments_lexer": "ipython3",
   "version": "3.9.12"
  }
 },
 "nbformat": 4,
 "nbformat_minor": 4
}
